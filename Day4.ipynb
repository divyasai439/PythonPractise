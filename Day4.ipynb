{
 "cells": [
  {
   "cell_type": "code",
   "execution_count": null,
   "metadata": {},
   "outputs": [],
   "source": [
    "#Adding, Changing and removing elements from a list"
   ]
  },
  {
   "cell_type": "code",
   "execution_count": 1,
   "metadata": {},
   "outputs": [
    {
     "name": "stdout",
     "output_type": "stream",
     "text": [
      "['divya', 'sai', 'smruthi', 'gajjala']\n"
     ]
    }
   ],
   "source": [
    "my_students=['divya','sai','smruthi','gajjala']\n",
    "print(my_students)"
   ]
  },
  {
   "cell_type": "code",
   "execution_count": null,
   "metadata": {},
   "outputs": [],
   "source": [
    "# how to add elements ,append method is used to add the elements at the end of the list"
   ]
  },
  {
   "cell_type": "code",
   "execution_count": 2,
   "metadata": {},
   "outputs": [
    {
     "name": "stdout",
     "output_type": "stream",
     "text": [
      "['divya', 'sai', 'smruthi', 'gajjala', 'lalitha']\n"
     ]
    }
   ],
   "source": [
    "my_students.append('lalitha')\n",
    "print(my_students)"
   ]
  },
  {
   "cell_type": "code",
   "execution_count": 5,
   "metadata": {},
   "outputs": [
    {
     "name": "stdout",
     "output_type": "stream",
     "text": [
      "['divya', 'kiran', 'smruthi', 'gajjala', 'lalitha']\n"
     ]
    }
   ],
   "source": [
    "# Req: Add a new students at index 1,  replacing the element\n",
    "my_students[1]='kiran'\n",
    "print(my_students)"
   ]
  },
  {
   "cell_type": "code",
   "execution_count": 6,
   "metadata": {},
   "outputs": [
    {
     "name": "stdout",
     "output_type": "stream",
     "text": [
      "['divya', 'kiran', 'smruthi', 'kumar', 'gajjala', 'lalitha']\n"
     ]
    }
   ],
   "source": [
    "# inserting the elements into a list  # insert is used to add elements without deleting the existing elements\n",
    "my_students.insert(3,'kumar')\n",
    "print(my_students)"
   ]
  },
  {
   "cell_type": "code",
   "execution_count": 7,
   "metadata": {},
   "outputs": [
    {
     "name": "stdout",
     "output_type": "stream",
     "text": [
      "['kiran', 'smruthi', 'kumar', 'gajjala', 'lalitha']\n"
     ]
    }
   ],
   "source": [
    "# how to remove elements from list , del is used to remove the elements from the list\n",
    "#REq: Remove divya name from list\n",
    "del my_students[0]\n",
    "print(my_students)"
   ]
  },
  {
   "cell_type": "code",
   "execution_count": 8,
   "metadata": {},
   "outputs": [
    {
     "name": "stdout",
     "output_type": "stream",
     "text": [
      "['kiran', 'smruthi', 'kumar', 'gajjala']\n"
     ]
    }
   ],
   "source": [
    "# removing the elements b using pop() method. It will not directly delete elements. First it will create carbon copy of the\n",
    "# deleted items. Default nature : it will be deleting the elements from the end.\n",
    "my_students.pop()\n",
    "print(my_students)"
   ]
  },
  {
   "cell_type": "code",
   "execution_count": 9,
   "metadata": {},
   "outputs": [
    {
     "name": "stdout",
     "output_type": "stream",
     "text": [
      "['kiran', 'kumar', 'gajjala']\n"
     ]
    }
   ],
   "source": [
    "# how to delete the item at particular position\n",
    "my_students.pop(1)\n",
    "print(my_students)"
   ]
  },
  {
   "cell_type": "code",
   "execution_count": 10,
   "metadata": {},
   "outputs": [
    {
     "name": "stdout",
     "output_type": "stream",
     "text": [
      "['divya', 'sai', 'smruthi', 'gajjala', 'lalitha']\n"
     ]
    }
   ],
   "source": [
    "# Organising the list\n",
    "students=['divya','sai','smruthi','gajjala','lalitha']\n",
    "print(students)"
   ]
  },
  {
   "cell_type": "code",
   "execution_count": 12,
   "metadata": {},
   "outputs": [
    {
     "name": "stdout",
     "output_type": "stream",
     "text": [
      "['divya', 'gajjala', 'lalitha', 'sai', 'smruthi']\n"
     ]
    }
   ],
   "source": [
    "# Req: Organising the items in a list in alphabetical order a-z\n",
    "students.sort()\n",
    "print(students)"
   ]
  },
  {
   "cell_type": "code",
   "execution_count": 13,
   "metadata": {},
   "outputs": [
    {
     "name": "stdout",
     "output_type": "stream",
     "text": [
      "['adithya', 'sai', 'gajjala', 'kumar']\n"
     ]
    }
   ],
   "source": [
    "# Req: Organize th students for a time being / temporary sorting, it has to go back to original position\n",
    "students2=['adithya','sai','gajjala','kumar']\n",
    "print(students2)"
   ]
  },
  {
   "cell_type": "code",
   "execution_count": 14,
   "metadata": {},
   "outputs": [
    {
     "name": "stdout",
     "output_type": "stream",
     "text": [
      "here is the sorted list\n",
      "['adithya', 'gajjala', 'kumar', 'sai']\n",
      "['adithya', 'sai', 'gajjala', 'kumar']\n"
     ]
    }
   ],
   "source": [
    "print('here is the sorted list')\n",
    "print(sorted(students2))\n",
    "print(students2)"
   ]
  },
  {
   "cell_type": "code",
   "execution_count": null,
   "metadata": {},
   "outputs": [],
   "source": []
  },
  {
   "cell_type": "code",
   "execution_count": null,
   "metadata": {},
   "outputs": [],
   "source": []
  },
  {
   "cell_type": "code",
   "execution_count": null,
   "metadata": {},
   "outputs": [],
   "source": []
  },
  {
   "cell_type": "code",
   "execution_count": null,
   "metadata": {},
   "outputs": [],
   "source": []
  },
  {
   "cell_type": "code",
   "execution_count": null,
   "metadata": {},
   "outputs": [],
   "source": []
  },
  {
   "cell_type": "code",
   "execution_count": null,
   "metadata": {},
   "outputs": [],
   "source": []
  },
  {
   "cell_type": "code",
   "execution_count": null,
   "metadata": {},
   "outputs": [],
   "source": []
  },
  {
   "cell_type": "code",
   "execution_count": null,
   "metadata": {},
   "outputs": [],
   "source": []
  },
  {
   "cell_type": "code",
   "execution_count": null,
   "metadata": {},
   "outputs": [],
   "source": []
  },
  {
   "cell_type": "code",
   "execution_count": null,
   "metadata": {},
   "outputs": [],
   "source": []
  },
  {
   "cell_type": "code",
   "execution_count": null,
   "metadata": {},
   "outputs": [],
   "source": []
  },
  {
   "cell_type": "code",
   "execution_count": null,
   "metadata": {},
   "outputs": [],
   "source": []
  }
 ],
 "metadata": {
  "kernelspec": {
   "display_name": "Python 3",
   "language": "python",
   "name": "python3"
  },
  "language_info": {
   "codemirror_mode": {
    "name": "ipython",
    "version": 3
   },
   "file_extension": ".py",
   "mimetype": "text/x-python",
   "name": "python",
   "nbconvert_exporter": "python",
   "pygments_lexer": "ipython3",
   "version": "3.7.1"
  }
 },
 "nbformat": 4,
 "nbformat_minor": 2
}
